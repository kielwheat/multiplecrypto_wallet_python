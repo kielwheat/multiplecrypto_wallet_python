{
 "cells": [
  {
   "cell_type": "code",
   "execution_count": 204,
   "metadata": {},
   "outputs": [],
   "source": [
    "import subprocess\n",
    "from constants import *\n",
    "import os\n",
    "import json\n",
    "import bit\n",
    "from bit import wif_to_key\n",
    "from web3 import Web3\n",
    "from web3.middleware import geth_poa_middleware\n",
    "from eth_account import Account\n",
    "from pathlib import Path\n",
    "from getpass import getpass\n",
    "from dotenv import load_dotenv\n",
    "\n",
    "load_dotenv()\n",
    "w3 = Web3(Web3.HTTPProvider(\"http://127.0.0.1:8545\"))\n",
    "w3.middleware_onion.inject(geth_poa_middleware, layer=0)\n",
    "\n",
    "mnemonic = os.getenv(\"MNEMONIC\")\n",
    "num_keys=1\n",
    "coin_request = BTCTEST\n",
    "\n",
    "def derive_wallets(mnemonic, num_keys, coin_request):\n",
    "    command = f'php derive -g --mnemonic=\"{mnemonic}\"\" --cols=address,index,path,privkey,pubkey,pubkeyhash,xprv,xpub --coin={coin_request} --numderive={num_keys} --format==json'\n",
    "    p = subprocess.Popen(command,stdout=subprocess.PIPE, shell=True)\n",
    "    (output, err) = p.communicate()\n",
    "    p_status = p.wait()\n",
    "    coin_info = json.loads(output)\n",
    "    return coin_info\n",
    "\n",
    "wallet = derive_wallets(mnemonic, num_keys, coin_request)\n",
    "\n"
   ]
  },
  {
   "cell_type": "code",
   "execution_count": 206,
   "metadata": {},
   "outputs": [],
   "source": [
    "coins = {BTCTEST:[], ETH: []}\n",
    "coins[BTCTEST].append(wallet)\n"
   ]
  },
  {
   "cell_type": "code",
   "execution_count": 207,
   "metadata": {},
   "outputs": [],
   "source": [
    "coin_request = ETH\n",
    "wallet = derive_wallets(mnemonic, num_keys, coin_request)\n",
    "coins[ETH].append(wallet)"
   ]
  },
  {
   "cell_type": "code",
   "execution_count": 208,
   "metadata": {},
   "outputs": [],
   "source": [
    "def priv_key_to_account(coin):\n",
    "    if coin == BTCTEST:\n",
    "        priv_key= coins[BTCTEST][0]['privkey']\n",
    "        return bit.PrivateKeyTestnet(priv_key)\n",
    "    if coin == ETH:\n",
    "        priv_key = coins[ETH][0]['privkey']\n",
    "        pub_address =web3.Account.privateKeyToAccount(priv_key)\n",
    "        return pub_address.address\n",
    "    "
   ]
  },
  {
   "cell_type": "code",
   "execution_count": 209,
   "metadata": {},
   "outputs": [],
   "source": [
    "def create_tx(coin, account, recipient, amount):\n",
    "    account = priv_key_to_account(account)\n",
    "    if coin == ETH:\n",
    "        gasEstimate = w3.eth.estimateGas({\"from\": account, \"to\": recipient, \"value\": amount}\n",
    "        )\n",
    "        return {\n",
    "            \"from\": account,\n",
    "            \"to\": recipient,\n",
    "            \"value\": amount,\n",
    "            \"gasPrice\": w3.eth.gasPrice,\n",
    "            \"gas\": gasEstimate,\n",
    "            \"nonce\": w3.eth.getTransactionCount(account),\n",
    "        }\n",
    "    if coin == BTCTEST:\n",
    "        tx = bit.PrivateKeyTestnet.prepare_transaction(account, [(recipient, amount, BTCTEST)])\n",
    "        return tx \n"
   ]
  },
  {
   "cell_type": "code",
   "execution_count": 210,
   "metadata": {},
   "outputs": [],
   "source": [
    "def send_tx(coin, account, recipient, amount):\n",
    "    tx = create_tx(coin, account, recipient, amount)\n",
    "    if coin == ETH:\n",
    "        signed_tx = account.sign_transaction(tx)\n",
    "        result = w3.eth.sendRawTransaction(signed_tx.rawTransaction)\n",
    "        print(result.hex())\n",
    "        return result.hex()\n",
    "    \n",
    "    if coin == BTCTEST:\n",
    "        signed_tx = bit.PrivateKeyTestnet.sign_transaction(tx)\n",
    "        result = bit.NetworkAPI.broadcast_tx_testnet(signed_tx)\n",
    "        print(result.hex())\n",
    "        return result.hex()\n",
    "        \n"
   ]
  },
  {
   "cell_type": "code",
   "execution_count": null,
   "metadata": {},
   "outputs": [],
   "source": []
  }
 ],
 "metadata": {
  "kernelspec": {
   "display_name": "Python 3",
   "language": "python",
   "name": "python3"
  },
  "language_info": {
   "codemirror_mode": {
    "name": "ipython",
    "version": 3
   },
   "file_extension": ".py",
   "mimetype": "text/x-python",
   "name": "python",
   "nbconvert_exporter": "python",
   "pygments_lexer": "ipython3",
   "version": "3.8.5"
  }
 },
 "nbformat": 4,
 "nbformat_minor": 4
}
